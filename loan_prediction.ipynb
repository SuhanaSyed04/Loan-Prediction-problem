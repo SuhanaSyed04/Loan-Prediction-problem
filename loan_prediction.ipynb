{
  "cells": [
    {
      "cell_type": "code",
      "execution_count": null,
      "id": "e3bbbdc1",
      "metadata": {
        "id": "e3bbbdc1",
        "outputId": "511f1c4e-35dd-4cc4-f2cd-d1fa549afbbe"
      },
      "outputs": [
        {
          "name": "stdout",
          "output_type": "stream",
          "text": [
            "Requirement already satisfied: psycopg2-binary in c:\\users\\suhana\\downloads\\python anaconda install\\lib\\site-packages (2.9.9)Note: you may need to restart the kernel to use updated packages.\n",
            "\n"
          ]
        }
      ],
      "source": [
        "pip install psycopg2-binary"
      ]
    },
    {
      "cell_type": "code",
      "execution_count": null,
      "id": "27629d80",
      "metadata": {
        "id": "27629d80",
        "outputId": "9f02c957-74e6-422f-90d1-9a98d12135f7"
      },
      "outputs": [
        {
          "name": "stdout",
          "output_type": "stream",
          "text": [
            "Loan Outcomes Data:\n",
            "(1, datetime.datetime(2017, 8, 14, 9, 8, 50), 'defaulted')\n",
            "(2, datetime.datetime(2016, 5, 17, 10, 10, 12, 447976), 'repaid')\n",
            "(3, datetime.datetime(2016, 10, 20, 10, 7, 20, 459081), 'defaulted')\n",
            "(4, datetime.datetime(2017, 1, 13, 13, 3, 34), 'defaulted')\n",
            "(5, datetime.datetime(2016, 11, 3, 15, 41, 39, 124610), 'repaid')\n",
            "(6, datetime.datetime(2018, 2, 25, 14, 43, 24), 'defaulted')\n",
            "(7, datetime.datetime(2016, 7, 11, 14, 7, 46, 202826), 'repaid')\n",
            "(8, datetime.datetime(2017, 2, 20, 16, 22, 44), 'defaulted')\n",
            "(9, datetime.datetime(2018, 1, 3, 16, 21, 38), 'defaulted')\n",
            "(10, datetime.datetime(2018, 2, 1, 11, 24, 1), 'repaid')\n",
            "\n",
            "User GPS Data:\n",
            "(1, datetime.datetime(2017, 6, 22, 9, 37, 20), datetime.datetime(2017, 6, 22, 9, 43, 42), 36.8405401, -1.2943417, 68.4, 0.0, 0.0, 'fused', 1)\n",
            "(2, datetime.datetime(2017, 8, 14, 7, 50, 27), datetime.datetime(2017, 8, 14, 9, 5, 27), 36.8952702, -1.3419282, 1409.0, 0.0, 0.0, 'fused', 1)\n",
            "(3, datetime.datetime(2017, 6, 13, 10, 34, 29), datetime.datetime(2017, 6, 13, 10, 54, 48), 36.8119029, -1.3072201, 68.4, 0.0, 0.0, 'fused', 1)\n",
            "(4, datetime.datetime(2017, 6, 18, 12, 16, 20), datetime.datetime(2017, 6, 18, 12, 16, 24), 36.9070485, -1.3099842, 1581.0, 0.0, 0.0, 'fused', 1)\n",
            "(5, datetime.datetime(2017, 6, 28, 9, 39, 8), datetime.datetime(2017, 6, 28, 9, 58, 12), 36.8393959, -1.28031, 1396.0, 0.0, 0.0, 'fused', 1)\n",
            "(6, datetime.datetime(2017, 2, 4, 8, 12, 6), datetime.datetime(2017, 2, 4, 8, 12, 32), 36.8786823, -1.3202525, 19.182, 0.0, 0.0, 'fused', 1)\n",
            "(7, datetime.datetime(2017, 6, 21, 17, 21, 50), datetime.datetime(2017, 6, 21, 17, 21, 55), 36.9024832, -1.2893878, 1700.0, 0.0, 0.0, 'fused', 1)\n",
            "(8, datetime.datetime(2017, 6, 20, 10, 8, 35), datetime.datetime(2017, 6, 20, 10, 29, 33), 36.885694, -1.3080455, 1386.0, 0.0, 0.0, 'fused', 1)\n",
            "(9, datetime.datetime(2017, 5, 24, 4, 52, 31), datetime.datetime(2017, 5, 24, 5, 17, 26), 36.8802869, -1.289266, 9.9, 201.4, 0.0, 'fused', 1)\n",
            "(10, datetime.datetime(2017, 6, 17, 9, 44, 34), datetime.datetime(2017, 6, 17, 9, 45, 2), 36.8578813, -1.3150755, 30.0, 0.0, 0.0, 'fused', 1)\n",
            "\n",
            "User Attributes Data:\n",
            "(1, 42, 8988.12)\n",
            "(2, 36, 9968.12)\n",
            "(3, 27, 59.04)\n",
            "(4, 38, 2129.03)\n",
            "(5, 33, 2102.53)\n",
            "(6, 42, 9305.85)\n",
            "(7, 28, 2726.06)\n",
            "(8, 25, 6530.59)\n",
            "(9, 25, 1715.96)\n",
            "(10, 34, 9260.69)\n"
          ]
        }
      ],
      "source": [
        "import psycopg2\n",
        "\n",
        "# Establish Database connection\n",
        "db_params = {\n",
        "    'database': 'branchdsprojectgps',\n",
        "    'user': 'datascientist',\n",
        "    'password': '47eyYBLT0laW5j9U24Uuy8gLcrN',\n",
        "    'host': 'branchhomeworkdb.ccc0r2wfuew7.us-east-1.rds.amazonaws.com',\n",
        "    'port': '5432'\n",
        "}\n",
        "\n",
        "def fetch_data(query):\n",
        "    conn = psycopg2.connect(**db_params)\n",
        "    cursor = conn.cursor()\n",
        "    cursor.execute(query)\n",
        "    data = cursor.fetchall()\n",
        "    conn.close()\n",
        "    return data\n",
        "\n",
        "# Function to print rows to check the data\n",
        "def print_rows(data, limit=10):\n",
        "    counter = 0\n",
        "    for row in data:\n",
        "        print(row)\n",
        "        counter += 1\n",
        "        if counter >= limit:\n",
        "            break\n",
        "\n",
        "# Fetching data\n",
        "loan_outcomes_query = \"SELECT * FROM loan_outcomes\"\n",
        "loan_outcomes_data = fetch_data(loan_outcomes_query)\n",
        "print(\"Loan Outcomes Data:\")\n",
        "print_rows(loan_outcomes_data)\n",
        "\n",
        "user_gps_query = \"SELECT * FROM user_gps_fixes\"\n",
        "user_gps_data = fetch_data(user_gps_query)\n",
        "print(\"\\nUser GPS Data:\")\n",
        "print_rows(user_gps_data)\n",
        "\n",
        "user_attributes_query = \"SELECT * FROM user_attributes\"\n",
        "user_attributes_data = fetch_data(user_attributes_query)\n",
        "print(\"\\nUser Attributes Data:\")\n",
        "print_rows(user_attributes_data)\n"
      ]
    },
    {
      "cell_type": "code",
      "execution_count": null,
      "id": "46f9030c",
      "metadata": {
        "id": "46f9030c",
        "outputId": "a1c1a5b1-00ac-4283-aff5-519e3d09192f"
      },
      "outputs": [
        {
          "name": "stdout",
          "output_type": "stream",
          "text": [
            "Missing values in loan outcomes:\n",
            "user_id           0\n",
            "application_at    0\n",
            "loan_outcome      0\n",
            "dtype: int64\n",
            "\n",
            "Missing values in user GPS data:\n",
            "user_id              0\n",
            "gps_fix_at           0\n",
            "server_upload_at     0\n",
            "longitude            0\n",
            "latitude             0\n",
            "altitude             0\n",
            "bearing              0\n",
            "accuracy             0\n",
            "location_provider    0\n",
            "                     0\n",
            "dtype: int64\n",
            "\n",
            "Missing values in user attributes data:\n",
            "user_id                 0\n",
            "age                     0\n",
            "cash_incoming_30days    0\n",
            "dtype: int64\n"
          ]
        }
      ],
      "source": [
        "import pandas as pd\n",
        "import seaborn as sns\n",
        "import matplotlib.pyplot as plt\n",
        "\n",
        "loan_outcomes_df = pd.DataFrame(loan_outcomes_data, columns=['user_id', 'application_at', 'loan_outcome'])\n",
        "user_gps_df = pd.DataFrame(user_gps_data, columns=['user_id', 'gps_fix_at', 'server_upload_at','longitude','latitude','altitude', 'bearing','accuracy','location_provider',''])\n",
        "user_attributes_df = pd.DataFrame(user_attributes_data, columns=['user_id', 'age', 'cash_incoming_30days'])\n",
        "\n",
        "# Data cleaning and preprocessing\n",
        "# Check for missing values\n",
        "print(\"Missing values in loan outcomes:\")\n",
        "print(loan_outcomes_df.isnull().sum())\n",
        "print(\"\\nMissing values in user GPS data:\")\n",
        "print(user_gps_df.isnull().sum())\n",
        "print(\"\\nMissing values in user attributes data:\")\n",
        "print(user_attributes_df.isnull().sum())\n"
      ]
    },
    {
      "cell_type": "code",
      "execution_count": null,
      "id": "7f5f88fe",
      "metadata": {
        "id": "7f5f88fe",
        "outputId": "0170a019-efdc-4f86-d40f-b2842cd53049"
      },
      "outputs": [
        {
          "name": "stdout",
          "output_type": "stream",
          "text": [
            "Loan Outcomes Data EDA:\n",
            "   user_id             application_at loan_outcome\n",
            "0        1 2017-08-14 09:08:50.000000    defaulted\n",
            "1        2 2016-05-17 10:10:12.447976       repaid\n",
            "2        3 2016-10-20 10:07:20.459081    defaulted\n",
            "3        4 2017-01-13 13:03:34.000000    defaulted\n",
            "4        5 2016-11-03 15:41:39.124610       repaid\n",
            "          user_id\n",
            "count  400.000000\n",
            "mean   200.500000\n",
            "std    115.614301\n",
            "min      1.000000\n",
            "25%    100.750000\n",
            "50%    200.500000\n",
            "75%    300.250000\n",
            "max    400.000000\n",
            "defaulted    200\n",
            "repaid       200\n",
            "Name: loan_outcome, dtype: int64\n",
            "\n",
            "User GPS Data EDA:\n",
            "   user_id          gps_fix_at    server_upload_at  longitude  latitude  \\\n",
            "0        1 2017-06-22 09:37:20 2017-06-22 09:43:42  36.840540 -1.294342   \n",
            "1        2 2017-08-14 07:50:27 2017-08-14 09:05:27  36.895270 -1.341928   \n",
            "2        3 2017-06-13 10:34:29 2017-06-13 10:54:48  36.811903 -1.307220   \n",
            "3        4 2017-06-18 12:16:20 2017-06-18 12:16:24  36.907049 -1.309984   \n",
            "4        5 2017-06-28 09:39:08 2017-06-28 09:58:12  36.839396 -1.280310   \n",
            "\n",
            "   altitude  bearing  accuracy location_provider     \n",
            "0      68.4      0.0       0.0             fused  1  \n",
            "1    1409.0      0.0       0.0             fused  1  \n",
            "2      68.4      0.0       0.0             fused  1  \n",
            "3    1581.0      0.0       0.0             fused  1  \n",
            "4    1396.0      0.0       0.0             fused  1  \n",
            "            user_id     longitude      latitude      altitude       bearing  \\\n",
            "count  26710.000000  26710.000000  26710.000000  2.671000e+04  26710.000000   \n",
            "mean   13355.500000     36.503743     -1.031422  1.006282e+03    332.259599   \n",
            "std     7710.657181      4.172315      1.850920  1.905380e+04    646.511986   \n",
            "min        1.000000    -85.232791    -24.645763 -2.147463e+06   -161.700000   \n",
            "25%     6678.250000     36.163351     -1.299535  2.050275e+01      0.000000   \n",
            "50%    13355.500000     36.825059     -1.232870  1.100000e+02      0.000000   \n",
            "75%    20032.750000     36.950463     -0.402338  2.200000e+03      0.000000   \n",
            "max    26710.000000    117.058355     56.242041  6.451553e+05   3012.900000   \n",
            "\n",
            "           accuracy                \n",
            "count  26710.000000  26710.000000  \n",
            "mean      15.072191    194.645938  \n",
            "std       57.378459    108.631662  \n",
            "min       -1.000000      1.000000  \n",
            "25%        0.000000    103.000000  \n",
            "50%        0.000000    191.000000  \n",
            "75%        0.000000    278.000000  \n",
            "max      359.440000    400.000000  \n",
            "\n",
            "User Attributes Data EDA:\n",
            "   user_id  age  cash_incoming_30days\n",
            "0        1   42               8988.12\n",
            "1        2   36               9968.12\n",
            "2        3   27                 59.04\n",
            "3        4   38               2129.03\n",
            "4        5   33               2102.53\n",
            "          user_id         age  cash_incoming_30days\n",
            "count  400.000000  400.000000            400.000000\n",
            "mean   200.500000   36.487500           7896.301075\n",
            "std    115.614301   13.243236           7037.481340\n",
            "min      1.000000   18.000000             11.900000\n",
            "25%    100.750000   27.000000           2602.472500\n",
            "50%    200.500000   34.000000           6004.240000\n",
            "75%    300.250000   44.000000          10989.405000\n",
            "max    400.000000  105.000000          41657.810000\n"
          ]
        },
        {
          "data": {
            "image/png": "[encoded data removed]",
            "text/plain": [
              "<Figure size 720x432 with 1 Axes>"
            ]
          },
          "metadata": {
            "needs_background": "light"
          },
          "output_type": "display_data"
        }
      ],
      "source": [
        "import pandas as pd\n",
        "import matplotlib.pyplot as plt\n",
        "import seaborn as sns\n",
        "\n",
        "print(\"Loan Outcomes Data EDA:\")\n",
        "print(loan_outcomes_df.head())  # Display the first few rows of the dataframe\n",
        "print(loan_outcomes_df.describe())  # Display summary statistics\n",
        "print(loan_outcomes_df['loan_outcome'].value_counts())  # Check the distribution of loan outcomes\n",
        "\n",
        "print(\"\\nUser GPS Data EDA:\")\n",
        "print(user_gps_df.head())  # Display the first few rows of the dataframe\n",
        "print(user_gps_df.describe())  # Display summary statistics\n",
        "\n",
        "print(\"\\nUser Attributes Data EDA:\")\n",
        "print(user_attributes_df.head())  # Display the first few rows of the dataframe\n",
        "print(user_attributes_df.describe())  # Display summary statistics\n",
        "\n",
        "# data visualization\n",
        "\n",
        "plt.figure(figsize=(10, 6))\n",
        "sns.countplot(x='loan_outcome', data=loan_outcomes_df)\n",
        "plt.title('Loan Outcome Distribution')\n",
        "plt.show()\n",
        "#this plot gives us the idea of how the distribution in the 'loan_outcome' column looks like"
      ]
    },
    {
      "cell_type": "code",
      "execution_count": null,
      "id": "e20cfca8",
      "metadata": {
        "id": "e20cfca8",
        "outputId": "f77f5617-ca39-4643-d8e6-a27dc53d09b0"
      },
      "outputs": [
        {
          "data": {
            "image/png": "[encoded data removed]",
            "text/plain": [
              "<Figure size 720x432 with 2 Axes>"
            ]
          },
          "metadata": {
            "needs_background": "light"
          },
          "output_type": "display_data"
        },
        {
          "data": {
            "image/png": "[encoded data removed]",
            "text/plain": [
              "<Figure size 720x432 with 1 Axes>"
            ]
          },
          "metadata": {
            "needs_background": "light"
          },
          "output_type": "display_data"
        }
      ],
      "source": [
        "# data visualization for User Attributes\n",
        "plt.figure(figsize=(10, 6))\n",
        "plt.subplot(1, 2, 1)\n",
        "sns.histplot(user_attributes_df['age'], kde=True)\n",
        "plt.title('Distribution of Age')\n",
        "\n",
        "plt.subplot(1, 2, 2)\n",
        "sns.histplot(user_attributes_df['cash_incoming_30days'], kde=True)\n",
        "plt.title('Cash Incoming Distribution')\n",
        "plt.show()\n",
        "\n",
        "# data visualization for User GPS Data\n",
        "plt.figure(figsize=(10, 6))\n",
        "plt.scatter(user_gps_df['longitude'], user_gps_df['latitude'], c='b', alpha=0.5, label='GPS Data')\n",
        "plt.xlabel('Longitude')\n",
        "plt.ylabel('Latitude')\n",
        "plt.title('User GPS Data Distribution')\n",
        "plt.legend()\n",
        "plt.show()"
      ]
    },
    {
      "cell_type": "markdown",
      "id": "c30e19fb",
      "metadata": {
        "id": "c30e19fb"
      },
      "source": [
        "   The above graphs tells us the information about Distribution of age and distribution of cash incoming and from the second graph we can note that the concentration at (latitude,longitude) = (0,40) is higher hence it is visible that customers in this region tend to open the branch app more often and are using it more."
      ]
    },
    {
      "cell_type": "code",
      "execution_count": null,
      "id": "a5369701",
      "metadata": {
        "id": "a5369701",
        "outputId": "666df066-25a0-458e-f1a6-64fdb7477efc"
      },
      "outputs": [
        {
          "name": "stdout",
          "output_type": "stream",
          "text": [
            "Cross Tabulation of Loan Outcomes by Application Year:\n",
            "loan_outcome      defaulted  repaid\n",
            "application_year                   \n",
            "2015                      0       8\n",
            "2016                     37      59\n",
            "2017                     80      79\n",
            "2018                     83      54\n"
          ]
        }
      ],
      "source": [
        "# Feature Engineering\n",
        "from sklearn.preprocessing import StandardScaler\n",
        "\n",
        "# Extracting features from timestamps\n",
        "loan_outcomes_df['application_year'] = loan_outcomes_df['application_at'].dt.year\n",
        "loan_outcomes_df['application_month'] = loan_outcomes_df['application_at'].dt.month\n",
        "\n",
        "user_gps_df['fix_year'] = user_gps_df['gps_fix_at'].dt.year\n",
        "user_gps_df['fix_month'] = user_gps_df['gps_fix_at'].dt.month\n",
        "\n",
        "# Creating derived features from GPS data\n",
        "user_gps_df['distance_traveled'] = ((user_gps_df['latitude'] - user_gps_df['latitude'].shift()) ** 2 +\n",
        "                                         (user_gps_df['longitude'] - user_gps_df['longitude'].shift()) ** 2) ** 0.5\n",
        "\n",
        "# Creating cross-tabulations\n",
        "cross_tab = pd.crosstab(loan_outcomes_df['application_year'], loan_outcomes_df['loan_outcome'])\n",
        "print(\"Cross Tabulation of Loan Outcomes by Application Year:\")\n",
        "print(cross_tab)\n"
      ]
    },
    {
      "cell_type": "markdown",
      "id": "e9a0d03b",
      "metadata": {
        "id": "e9a0d03b"
      },
      "source": [
        "The output represents the count of defaulted and repaid loans for each application year. This information can provide insights into the distribution of loan outcomes over the years."
      ]
    },
    {
      "cell_type": "code",
      "execution_count": null,
      "id": "e0c74012",
      "metadata": {
        "id": "e0c74012",
        "outputId": "00424924-567e-4b79-88a4-17543736807c"
      },
      "outputs": [
        {
          "name": "stdout",
          "output_type": "stream",
          "text": [
            "  loan_outcome  loan_outcome_encoded\n",
            "0    defaulted                     0\n",
            "1       repaid                     1\n",
            "2    defaulted                     0\n",
            "3    defaulted                     0\n",
            "4       repaid                     1\n"
          ]
        }
      ],
      "source": [
        "from sklearn.preprocessing import LabelEncoder\n",
        "\n",
        "# Using LabelEncoder to encode 'loan_outcome'\n",
        "le = LabelEncoder()\n",
        "loan_outcomes_df['loan_outcome_encoded'] = le.fit_transform(loan_outcomes_df['loan_outcome'])\n",
        "\n",
        "# Check the encoded values\n",
        "print(loan_outcomes_df[['loan_outcome', 'loan_outcome_encoded']].head(5))\n"
      ]
    },
    {
      "cell_type": "markdown",
      "id": "740cafdb",
      "metadata": {
        "id": "740cafdb"
      },
      "source": [
        "the 'loan_outcome' column is encoded into numerical values, with 'defaulted' represented as 0 and 'repaid' as 1"
      ]
    },
    {
      "cell_type": "markdown",
      "id": "b8c20f53",
      "metadata": {
        "id": "b8c20f53"
      },
      "source": [
        "2. Train a model\n",
        "a. Train a model that predicts the loan outcome. As you work with the\n",
        "data, keep in mind that Branch uses a model like this to decide whether to\n",
        "lend to a potential borrower.\n",
        "b. Produce a few graphs and metrics demonstrating the model’s\n",
        "performance. We understand that the data is limited. We are more\n",
        "interested in your decision making processes (how you train a model,\n",
        "how you think about evaluating the results, etc.) than your final result."
      ]
    },
    {
      "cell_type": "markdown",
      "id": "b21c1a23",
      "metadata": {
        "id": "b21c1a23"
      },
      "source": [
        "For classification tasks like predicting the loan outcome, it's more appropriate to use supervised learning algorithms such as logistic regression, decision trees, random forests, or support vector machines. These algorithms are specifically designed to predict the class or category of a data point based on its features."
      ]
    },
    {
      "cell_type": "code",
      "execution_count": null,
      "id": "9cf68025",
      "metadata": {
        "id": "9cf68025",
        "outputId": "93326f3a-f2fd-40c9-c234-7ef694e0e102"
      },
      "outputs": [
        {
          "name": "stdout",
          "output_type": "stream",
          "text": [
            "Confusion Matrix:\n",
            "[[24 13]\n",
            " [29 14]]\n",
            "\n",
            "Classification Report:\n",
            "              precision    recall  f1-score   support\n",
            "\n",
            "           0       0.45      0.65      0.53        37\n",
            "           1       0.52      0.33      0.40        43\n",
            "\n",
            "    accuracy                           0.48        80\n",
            "   macro avg       0.49      0.49      0.47        80\n",
            "weighted avg       0.49      0.47      0.46        80\n",
            "\n",
            "\n",
            "Accuracy: 0.475\n"
          ]
        }
      ],
      "source": [
        "from sklearn.model_selection import train_test_split\n",
        "from sklearn.linear_model import LogisticRegression\n",
        "from sklearn.metrics import classification_report, confusion_matrix, accuracy_score\n",
        "# Selecting features for the model\n",
        "X = loan_outcomes_df[['application_year', 'application_month']]\n",
        "y = loan_outcomes_df['loan_outcome_encoded']\n",
        "\n",
        "# Split the data into training and testing sets\n",
        "X_train, X_test, y_train, y_test = train_test_split(X, y, test_size=0.2, random_state=42)\n",
        "\n",
        "# Initialize and train a logistic regression model\n",
        "model = LogisticRegression()\n",
        "model.fit(X_train, y_train)\n",
        "\n",
        "# Make predictions\n",
        "y_pred = model.predict(X_test)\n",
        "\n",
        "# Model Evaluation\n",
        "print(\"Confusion Matrix:\")\n",
        "print(confusion_matrix(y_test, y_pred))\n",
        "print(\"\\nClassification Report:\")\n",
        "print(classification_report(y_test, y_pred))\n",
        "print(\"\\nAccuracy:\", accuracy_score(y_test, y_pred))\n",
        "\n",
        "\n"
      ]
    },
    {
      "cell_type": "markdown",
      "id": "e0bae76d",
      "metadata": {
        "id": "e0bae76d"
      },
      "source": [
        "combining features from different tables through feature engineering can significantly improve the predictive power of the model."
      ]
    },
    {
      "cell_type": "code",
      "execution_count": null,
      "id": "d5a3829f",
      "metadata": {
        "id": "d5a3829f"
      },
      "outputs": [],
      "source": [
        "# Feature Engineering (Combining the features from various tables so that the model improves it accuracy)\n",
        "import pandas as pd\n",
        "# Merge the dataframes on the 'user_id' column\n",
        "merged_df = loan_outcomes_df.merge(user_attributes_df, on='user_id', how='left').merge(user_gps_df, on='user_id', how='left')\n",
        "\n",
        "# Feature engineering for temporal features\n",
        "merged_df['application_year'] = loan_outcomes_df['application_year']\n",
        "merged_df['application_month'] = loan_outcomes_df['application_month']\n",
        "\n",
        "# Feature engineering for location-based features\n",
        "merged_df['distance_from_branch'] = ((merged_df['latitude'] - user_gps_df['latitude']) ** 2 + (merged_df['longitude'] - user_gps_df['longitude']) ** 2) ** 0.5\n",
        "\n",
        "# Aggregating user attributes\n",
        "user_attributes_agg = user_attributes_df.groupby('user_id').agg({'age': ['mean', 'std'], 'cash_incoming_30days': ['mean', 'std']})\n",
        "user_attributes_agg.columns = ['_'.join(col) for col in user_attributes_agg.columns]\n",
        "merged_df = merged_df.merge(user_attributes_agg, on='user_id', how='left')\n",
        "\n",
        "# Creating interaction features\n",
        "merged_df['age_times_cash_incoming'] = merged_df['age'] * merged_df['cash_incoming_30days']\n",
        "\n",
        "# Handling NaN values\n",
        "merged_df.drop(['age_std', 'cash_incoming_30days_std'], axis=1, inplace=True)\n",
        "\n",
        "# Final dataset for modeling\n",
        "final_data = merged_df[['application_year', 'application_month', 'distance_from_branch', 'age', 'cash_incoming_30days', 'age_mean', 'cash_incoming_30days_mean', 'age_times_cash_incoming', 'loan_outcome_encoded']]"
      ]
    },
    {
      "cell_type": "code",
      "execution_count": null,
      "id": "d76fed83",
      "metadata": {
        "id": "d76fed83",
        "outputId": "4acbaab1-1f67-4270-e4fd-278144a13fe6"
      },
      "outputs": [
        {
          "data": {
            "text/html": [
              "<div>\n",
              "<style scoped>\n",
              "    .dataframe tbody tr th:only-of-type {\n",
              "        vertical-align: middle;\n",
              "    }\n",
              "\n",
              "    .dataframe tbody tr th {\n",
              "        vertical-align: top;\n",
              "    }\n",
              "\n",
              "    .dataframe thead th {\n",
              "        text-align: right;\n",
              "    }\n",
              "</style>\n",
              "<table border=\"1\" class=\"dataframe\">\n",
              "  <thead>\n",
              "    <tr style=\"text-align: right;\">\n",
              "      <th></th>\n",
              "      <th>application_year</th>\n",
              "      <th>application_month</th>\n",
              "      <th>distance_from_branch</th>\n",
              "      <th>age</th>\n",
              "      <th>cash_incoming_30days</th>\n",
              "      <th>age_mean</th>\n",
              "      <th>cash_incoming_30days_mean</th>\n",
              "      <th>age_times_cash_incoming</th>\n",
              "      <th>loan_outcome_encoded</th>\n",
              "    </tr>\n",
              "  </thead>\n",
              "  <tbody>\n",
              "    <tr>\n",
              "      <th>0</th>\n",
              "      <td>2017</td>\n",
              "      <td>8</td>\n",
              "      <td>0.0</td>\n",
              "      <td>42</td>\n",
              "      <td>8988.12</td>\n",
              "      <td>42.0</td>\n",
              "      <td>8988.12</td>\n",
              "      <td>377501.04</td>\n",
              "      <td>0</td>\n",
              "    </tr>\n",
              "    <tr>\n",
              "      <th>1</th>\n",
              "      <td>2016</td>\n",
              "      <td>5</td>\n",
              "      <td>0.0</td>\n",
              "      <td>36</td>\n",
              "      <td>9968.12</td>\n",
              "      <td>36.0</td>\n",
              "      <td>9968.12</td>\n",
              "      <td>358852.32</td>\n",
              "      <td>1</td>\n",
              "    </tr>\n",
              "    <tr>\n",
              "      <th>2</th>\n",
              "      <td>2016</td>\n",
              "      <td>10</td>\n",
              "      <td>0.0</td>\n",
              "      <td>27</td>\n",
              "      <td>59.04</td>\n",
              "      <td>27.0</td>\n",
              "      <td>59.04</td>\n",
              "      <td>1594.08</td>\n",
              "      <td>0</td>\n",
              "    </tr>\n",
              "    <tr>\n",
              "      <th>3</th>\n",
              "      <td>2017</td>\n",
              "      <td>1</td>\n",
              "      <td>0.0</td>\n",
              "      <td>38</td>\n",
              "      <td>2129.03</td>\n",
              "      <td>38.0</td>\n",
              "      <td>2129.03</td>\n",
              "      <td>80903.14</td>\n",
              "      <td>0</td>\n",
              "    </tr>\n",
              "    <tr>\n",
              "      <th>4</th>\n",
              "      <td>2016</td>\n",
              "      <td>11</td>\n",
              "      <td>0.0</td>\n",
              "      <td>33</td>\n",
              "      <td>2102.53</td>\n",
              "      <td>33.0</td>\n",
              "      <td>2102.53</td>\n",
              "      <td>69383.49</td>\n",
              "      <td>1</td>\n",
              "    </tr>\n",
              "    <tr>\n",
              "      <th>5</th>\n",
              "      <td>2018</td>\n",
              "      <td>2</td>\n",
              "      <td>0.0</td>\n",
              "      <td>42</td>\n",
              "      <td>9305.85</td>\n",
              "      <td>42.0</td>\n",
              "      <td>9305.85</td>\n",
              "      <td>390845.70</td>\n",
              "      <td>0</td>\n",
              "    </tr>\n",
              "    <tr>\n",
              "      <th>6</th>\n",
              "      <td>2016</td>\n",
              "      <td>7</td>\n",
              "      <td>0.0</td>\n",
              "      <td>28</td>\n",
              "      <td>2726.06</td>\n",
              "      <td>28.0</td>\n",
              "      <td>2726.06</td>\n",
              "      <td>76329.68</td>\n",
              "      <td>1</td>\n",
              "    </tr>\n",
              "    <tr>\n",
              "      <th>7</th>\n",
              "      <td>2017</td>\n",
              "      <td>2</td>\n",
              "      <td>0.0</td>\n",
              "      <td>25</td>\n",
              "      <td>6530.59</td>\n",
              "      <td>25.0</td>\n",
              "      <td>6530.59</td>\n",
              "      <td>163264.75</td>\n",
              "      <td>0</td>\n",
              "    </tr>\n",
              "    <tr>\n",
              "      <th>8</th>\n",
              "      <td>2018</td>\n",
              "      <td>1</td>\n",
              "      <td>0.0</td>\n",
              "      <td>25</td>\n",
              "      <td>1715.96</td>\n",
              "      <td>25.0</td>\n",
              "      <td>1715.96</td>\n",
              "      <td>42899.00</td>\n",
              "      <td>0</td>\n",
              "    </tr>\n",
              "    <tr>\n",
              "      <th>9</th>\n",
              "      <td>2018</td>\n",
              "      <td>2</td>\n",
              "      <td>0.0</td>\n",
              "      <td>34</td>\n",
              "      <td>9260.69</td>\n",
              "      <td>34.0</td>\n",
              "      <td>9260.69</td>\n",
              "      <td>314863.46</td>\n",
              "      <td>1</td>\n",
              "    </tr>\n",
              "  </tbody>\n",
              "</table>\n",
              "</div>"
            ],
            "text/plain": [
              "   application_year  application_month  distance_from_branch  age  \\\n",
              "0              2017                  8                   0.0   42   \n",
              "1              2016                  5                   0.0   36   \n",
              "2              2016                 10                   0.0   27   \n",
              "3              2017                  1                   0.0   38   \n",
              "4              2016                 11                   0.0   33   \n",
              "5              2018                  2                   0.0   42   \n",
              "6              2016                  7                   0.0   28   \n",
              "7              2017                  2                   0.0   25   \n",
              "8              2018                  1                   0.0   25   \n",
              "9              2018                  2                   0.0   34   \n",
              "\n",
              "   cash_incoming_30days  age_mean  cash_incoming_30days_mean  \\\n",
              "0               8988.12      42.0                    8988.12   \n",
              "1               9968.12      36.0                    9968.12   \n",
              "2                 59.04      27.0                      59.04   \n",
              "3               2129.03      38.0                    2129.03   \n",
              "4               2102.53      33.0                    2102.53   \n",
              "5               9305.85      42.0                    9305.85   \n",
              "6               2726.06      28.0                    2726.06   \n",
              "7               6530.59      25.0                    6530.59   \n",
              "8               1715.96      25.0                    1715.96   \n",
              "9               9260.69      34.0                    9260.69   \n",
              "\n",
              "   age_times_cash_incoming  loan_outcome_encoded  \n",
              "0                377501.04                     0  \n",
              "1                358852.32                     1  \n",
              "2                  1594.08                     0  \n",
              "3                 80903.14                     0  \n",
              "4                 69383.49                     1  \n",
              "5                390845.70                     0  \n",
              "6                 76329.68                     1  \n",
              "7                163264.75                     0  \n",
              "8                 42899.00                     0  \n",
              "9                314863.46                     1  "
            ]
          },
          "execution_count": 37,
          "metadata": {},
          "output_type": "execute_result"
        }
      ],
      "source": [
        "final_data.head(10)"
      ]
    },
    {
      "cell_type": "code",
      "execution_count": null,
      "id": "ba44ae56",
      "metadata": {
        "id": "ba44ae56",
        "outputId": "d9e83124-18fd-4262-f637-12c431f3edab"
      },
      "outputs": [
        {
          "name": "stdout",
          "output_type": "stream",
          "text": [
            "<class 'pandas.core.frame.DataFrame'>\n",
            "Int64Index: 400 entries, 0 to 399\n",
            "Data columns (total 9 columns):\n",
            " #   Column                     Non-Null Count  Dtype  \n",
            "---  ------                     --------------  -----  \n",
            " 0   application_year           400 non-null    int64  \n",
            " 1   application_month          400 non-null    int64  \n",
            " 2   distance_from_branch       400 non-null    float64\n",
            " 3   age                        400 non-null    int64  \n",
            " 4   cash_incoming_30days       400 non-null    float64\n",
            " 5   age_mean                   400 non-null    float64\n",
            " 6   cash_incoming_30days_mean  400 non-null    float64\n",
            " 7   age_times_cash_incoming    400 non-null    float64\n",
            " 8   loan_outcome_encoded       400 non-null    int32  \n",
            "dtypes: float64(5), int32(1), int64(3)\n",
            "memory usage: 29.7 KB\n"
          ]
        }
      ],
      "source": [
        "final_data.info()"
      ]
    },
    {
      "cell_type": "code",
      "execution_count": null,
      "id": "50f9aa3f",
      "metadata": {
        "id": "50f9aa3f",
        "outputId": "7b230c03-4386-4cf9-b871-70e0f590bfaa"
      },
      "outputs": [
        {
          "name": "stdout",
          "output_type": "stream",
          "text": [
            "Confusion Matrix:\n",
            "[[20 17]\n",
            " [19 24]]\n",
            "\n",
            "Classification Report:\n",
            "              precision    recall  f1-score   support\n",
            "\n",
            "           0       0.51      0.54      0.53        37\n",
            "           1       0.59      0.56      0.57        43\n",
            "\n",
            "    accuracy                           0.55        80\n",
            "   macro avg       0.55      0.55      0.55        80\n",
            "weighted avg       0.55      0.55      0.55        80\n",
            "\n"
          ]
        },
        {
          "data": {
            "image/png": "[encoded data removed]",
            "text/plain": [
              "<Figure size 576x432 with 1 Axes>"
            ]
          },
          "metadata": {
            "needs_background": "light"
          },
          "output_type": "display_data"
        }
      ],
      "source": [
        "from sklearn.metrics import classification_report, confusion_matrix, roc_curve, roc_auc_score\n",
        "\n",
        "X = final_data.drop('loan_outcome_encoded', axis=1)\n",
        "y = final_data['loan_outcome_encoded']  # Target\n",
        "\n",
        "# Split the data into training and testing sets\n",
        "X_train, X_test, y_train, y_test = train_test_split(X, y, test_size=0.2, random_state=42)\n",
        "\n",
        "# Initialize and train a logistic regression model\n",
        "model = LogisticRegression()\n",
        "model.fit(X_train, y_train)\n",
        "\n",
        "# Make predictions\n",
        "y_pred = model.predict(X_test)\n",
        "\n",
        "# Model Evaluation\n",
        "print(\"Confusion Matrix:\")\n",
        "print(confusion_matrix(y_test, y_pred))\n",
        "print(\"\\nClassification Report:\")\n",
        "print(classification_report(y_test, y_pred))\n",
        "\n",
        "# Calculate ROC curve and AUC\n",
        "y_pred_prob = model.predict_proba(X_test)[:, 1]\n",
        "fpr, tpr, thresholds = roc_curve(y_test, y_pred_prob)\n",
        "auc = roc_auc_score(y_test, y_pred_prob)\n",
        "\n",
        "# Plot ROC curve\n",
        "import matplotlib.pyplot as plt\n",
        "\n",
        "plt.figure(figsize=(8, 6))\n",
        "plt.plot(fpr, tpr, label='ROC Curve (AUC = %0.2f)' % auc)\n",
        "plt.plot([0, 1], [0, 1], 'r--')\n",
        "plt.xlabel('False Positive Rate')\n",
        "plt.ylabel('True Positive Rate')\n",
        "plt.title('Receiver Operating Characteristic (ROC) Curve')\n",
        "plt.legend(loc=\"lower right\")\n",
        "plt.show()\n"
      ]
    },
    {
      "cell_type": "markdown",
      "id": "3a2ad9f6",
      "metadata": {
        "id": "3a2ad9f6"
      },
      "source": [
        "Comparing the two sets of results(Before and after Feature Engineering and combining the features), the updated model has a higher accuracy, precision, recall, and F1-score for both classes. Additionally, the AUC value of the ROC curve increased to 0.62, which indicates an improved ability of the model to distinguish between the two classes.\n",
        "\n",
        "The Confusion Matrix shows that there is a better balance between the true positive and false positive predictions, which is reflected in the increased precision and recall scores for both classes."
      ]
    },
    {
      "cell_type": "markdown",
      "id": "ef5e46a9",
      "metadata": {
        "id": "ef5e46a9"
      },
      "source": [
        "3. Expose your trained model through a simple API. Pretend this API will be\n",
        "used in a production system that requests the model’s prediction for a user; the\n",
        "prediction helps Branch decide whether to give this user a loan. You should be\n",
        "able to send the user ID and/or raw data for a user (from the database) to this\n",
        "API and return a prediction. This is not necessarily a REST / HTTP API, just\n",
        "anything that could be “called” by some other system."
      ]
    },
    {
      "cell_type": "code",
      "execution_count": null,
      "id": "82c2f7af",
      "metadata": {
        "id": "82c2f7af",
        "outputId": "22646411-c7e7-4441-8904-36837a83958b"
      },
      "outputs": [
        {
          "name": "stdout",
          "output_type": "stream",
          "text": [
            "defaulted\n"
          ]
        },
        {
          "name": "stderr",
          "output_type": "stream",
          "text": [
            "C:\\Users\\suhana\\Downloads\\python anaconda install\\lib\\site-packages\\sklearn\\base.py:420: UserWarning: X does not have valid feature names, but LogisticRegression was fitted with feature names\n",
            "  warnings.warn(\n"
          ]
        }
      ],
      "source": [
        "def loan_prediction_api(user_data):\n",
        "    # Making prediction using the trained model\n",
        "    prediction = model.predict(user_data)\n",
        "\n",
        "    return prediction\n",
        "\n",
        "# API function\n",
        "user_data = {\n",
        "    'application_year': 2016,\n",
        "    'application_month': 10,\n",
        "    'distance_from_branch': 0.0,\n",
        "    'age': 27,\n",
        "    'cash_incoming_30days': 59.04,\n",
        "    'age_mean': 27.0,\n",
        "    'cash_incoming_30days_mean': 59.04,\n",
        "    'age_times_cash_incoming':1594.08\n",
        "}\n",
        "\n",
        "prediction = loan_prediction_api([[\n",
        "    user_data['application_year'],\n",
        "    user_data['application_month'],\n",
        "    user_data['distance_from_branch'],\n",
        "    user_data['age'],\n",
        "    user_data['cash_incoming_30days'],\n",
        "    user_data['age_mean'],\n",
        "    user_data['cash_incoming_30days_mean'],\n",
        "    user_data['age_times_cash_incoming']\n",
        "]])\n",
        "if prediction==[1]:\n",
        "    print(\"repaid\")\n",
        "else:\n",
        "    print(\"defaulted\")\n"
      ]
    },
    {
      "cell_type": "markdown",
      "id": "37c2292e",
      "metadata": {
        "id": "37c2292e"
      },
      "source": [
        "[1] indicates the user will fall under the category 'repaid' and [2] indicates 'defaulted'"
      ]
    },
    {
      "cell_type": "code",
      "execution_count": null,
      "id": "84e0d417",
      "metadata": {
        "id": "84e0d417",
        "outputId": "cb9b4d5b-7c20-44ce-a43c-024e9abb1f65"
      },
      "outputs": [
        {
          "name": "stdout",
          "output_type": "stream",
          "text": [
            "defaulted\n"
          ]
        },
        {
          "name": "stderr",
          "output_type": "stream",
          "text": [
            "C:\\Users\\suhana\\Downloads\\python anaconda install\\lib\\site-packages\\sklearn\\base.py:420: UserWarning: X does not have valid feature names, but LogisticRegression was fitted with feature names\n",
            "  warnings.warn(\n"
          ]
        }
      ],
      "source": [
        "user_data_2 = {\n",
        "    'application_year': 2023,\n",
        "    'application_month': 6,\n",
        "    'distance_from_branch': 2.3,\n",
        "    'age': 28,\n",
        "    'cash_incoming_30days': 3000,\n",
        "    'age_mean': 32,\n",
        "    'cash_incoming_30days_mean': 3200,\n",
        "    'age_times_cash_incoming': 96000\n",
        "}\n",
        "\n",
        "prediction_2 = loan_prediction_api([[\n",
        "    user_data_2['application_year'],\n",
        "    user_data_2['application_month'],\n",
        "    user_data_2['distance_from_branch'],\n",
        "    user_data_2['age'],\n",
        "    user_data_2['cash_incoming_30days'],\n",
        "    user_data_2['age_mean'],\n",
        "    user_data_2['cash_incoming_30days_mean'],\n",
        "    user_data_2['age_times_cash_incoming']\n",
        "]])\n",
        "if prediction==[1]:\n",
        "    print(\"repaid\")\n",
        "else:\n",
        "    print(\"defaulted\")\n"
      ]
    },
    {
      "cell_type": "code",
      "execution_count": null,
      "id": "8c17ac1e",
      "metadata": {
        "id": "8c17ac1e",
        "outputId": "a6980198-3534-4bf8-b9ae-98935ade2ead"
      },
      "outputs": [
        {
          "name": "stdout",
          "output_type": "stream",
          "text": [
            "repaid\n"
          ]
        },
        {
          "name": "stderr",
          "output_type": "stream",
          "text": [
            "C:\\Users\\suhana\\Downloads\\python anaconda install\\lib\\site-packages\\sklearn\\base.py:420: UserWarning: X does not have valid feature names, but LogisticRegression was fitted with feature names\n",
            "  warnings.warn(\n"
          ]
        }
      ],
      "source": [
        "user_data_3 = {\n",
        "    'application_year': 2016,\n",
        "    'application_month': 5,\n",
        "    'distance_from_branch': 0.0,\n",
        "    'age': 36,\n",
        "    'cash_incoming_30days': 9968.12,\n",
        "    'age_mean': 36,\n",
        "    'cash_incoming_30days_mean': 9968.12,\n",
        "    'age_times_cash_incoming': 358852.32\n",
        "}\n",
        "\n",
        "prediction_3 = loan_prediction_api([[\n",
        "    user_data_3['application_year'],\n",
        "    user_data_3['application_month'],\n",
        "    user_data_3['distance_from_branch'],\n",
        "    user_data_3['age'],\n",
        "    user_data_3['cash_incoming_30days'],\n",
        "    user_data_3['age_mean'],\n",
        "    user_data_3['cash_incoming_30days_mean'],\n",
        "    user_data_3['age_times_cash_incoming']\n",
        "]])\n",
        "\n",
        "if prediction_3 == [1]:\n",
        "    print(\"repaid\")\n",
        "else:\n",
        "    print(\"defaulted\")\n"
      ]
    },
    {
      "cell_type": "code",
      "execution_count": null,
      "id": "6a3eba0b",
      "metadata": {
        "id": "6a3eba0b"
      },
      "outputs": [],
      "source": []
    }
  ],
  "metadata": {
    "kernelspec": {
      "display_name": "Python 3 (ipykernel)",
      "language": "python",
      "name": "python3"
    },
    "language_info": {
      "codemirror_mode": {
        "name": "ipython",
        "version": 3
      },
      "file_extension": ".py",
      "mimetype": "text/x-python",
      "name": "python",
      "nbconvert_exporter": "python",
      "pygments_lexer": "ipython3",
      "version": "3.9.7"
    },
    "colab": {
      "provenance": []
    }
  },
  "nbformat": 4,
  "nbformat_minor": 5
}